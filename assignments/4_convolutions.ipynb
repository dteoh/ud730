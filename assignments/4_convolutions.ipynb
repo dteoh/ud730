{
 "cells": [
  {
   "cell_type": "markdown",
   "metadata": {
    "colab_type": "text",
    "id": "4embtkV0pNxM"
   },
   "source": [
    "Deep Learning\n",
    "=============\n",
    "\n",
    "Assignment 4\n",
    "------------\n",
    "\n",
    "Previously in `2_fullyconnected.ipynb` and `3_regularization.ipynb`, we trained fully connected networks to classify [notMNIST](http://yaroslavvb.blogspot.com/2011/09/notmnist-dataset.html) characters.\n",
    "\n",
    "The goal of this assignment is make the neural network convolutional."
   ]
  },
  {
   "cell_type": "code",
   "execution_count": 1,
   "metadata": {
    "cellView": "both",
    "colab": {
     "autoexec": {
      "startup": false,
      "wait_interval": 0
     }
    },
    "colab_type": "code",
    "collapsed": true,
    "id": "tm2CQN_Cpwj0"
   },
   "outputs": [],
   "source": [
    "# These are all the modules we'll be using later. Make sure you can import them\n",
    "# before proceeding further.\n",
    "from __future__ import print_function\n",
    "import numpy as np\n",
    "import tensorflow as tf\n",
    "from six.moves import cPickle as pickle\n",
    "from six.moves import range"
   ]
  },
  {
   "cell_type": "code",
   "execution_count": 2,
   "metadata": {
    "cellView": "both",
    "colab": {
     "autoexec": {
      "startup": false,
      "wait_interval": 0
     },
     "output_extras": [
      {
       "item_id": 1
      }
     ]
    },
    "colab_type": "code",
    "collapsed": false,
    "executionInfo": {
     "elapsed": 11948,
     "status": "ok",
     "timestamp": 1446658914837,
     "user": {
      "color": "",
      "displayName": "",
      "isAnonymous": false,
      "isMe": true,
      "permissionId": "",
      "photoUrl": "",
      "sessionId": "0",
      "userId": ""
     },
     "user_tz": 480
    },
    "id": "y3-cj1bpmuxc",
    "outputId": "016b1a51-0290-4b08-efdb-8c95ffc3cd01"
   },
   "outputs": [
    {
     "name": "stdout",
     "output_type": "stream",
     "text": [
      "Training set (200000, 28, 28) (200000,)\n",
      "Validation set (10000, 28, 28) (10000,)\n",
      "Test set (10000, 28, 28) (10000,)\n"
     ]
    }
   ],
   "source": [
    "pickle_file = 'notMNIST.pickle'\n",
    "\n",
    "with open(pickle_file, 'rb') as f:\n",
    "  save = pickle.load(f)\n",
    "  train_dataset = save['train_dataset']\n",
    "  train_labels = save['train_labels']\n",
    "  valid_dataset = save['valid_dataset']\n",
    "  valid_labels = save['valid_labels']\n",
    "  test_dataset = save['test_dataset']\n",
    "  test_labels = save['test_labels']\n",
    "  del save  # hint to help gc free up memory\n",
    "  print('Training set', train_dataset.shape, train_labels.shape)\n",
    "  print('Validation set', valid_dataset.shape, valid_labels.shape)\n",
    "  print('Test set', test_dataset.shape, test_labels.shape)"
   ]
  },
  {
   "cell_type": "markdown",
   "metadata": {
    "colab_type": "text",
    "id": "L7aHrm6nGDMB"
   },
   "source": [
    "Reformat into a TensorFlow-friendly shape:\n",
    "- convolutions need the image data formatted as a cube (width by height by #channels)\n",
    "- labels as float 1-hot encodings."
   ]
  },
  {
   "cell_type": "code",
   "execution_count": 3,
   "metadata": {
    "cellView": "both",
    "colab": {
     "autoexec": {
      "startup": false,
      "wait_interval": 0
     },
     "output_extras": [
      {
       "item_id": 1
      }
     ]
    },
    "colab_type": "code",
    "collapsed": false,
    "executionInfo": {
     "elapsed": 11952,
     "status": "ok",
     "timestamp": 1446658914857,
     "user": {
      "color": "",
      "displayName": "",
      "isAnonymous": false,
      "isMe": true,
      "permissionId": "",
      "photoUrl": "",
      "sessionId": "0",
      "userId": ""
     },
     "user_tz": 480
    },
    "id": "IRSyYiIIGIzS",
    "outputId": "650a208c-8359-4852-f4f5-8bf10e80ef6c"
   },
   "outputs": [
    {
     "name": "stdout",
     "output_type": "stream",
     "text": [
      "Training set (200000, 28, 28, 1) (200000, 10)\n",
      "Validation set (10000, 28, 28, 1) (10000, 10)\n",
      "Test set (10000, 28, 28, 1) (10000, 10)\n"
     ]
    }
   ],
   "source": [
    "image_size = 28\n",
    "num_labels = 10\n",
    "num_channels = 1 # grayscale\n",
    "\n",
    "import numpy as np\n",
    "\n",
    "def reformat(dataset, labels):\n",
    "  dataset = dataset.reshape(\n",
    "    (-1, image_size, image_size, num_channels)).astype(np.float32)\n",
    "  labels = (np.arange(num_labels) == labels[:,None]).astype(np.float32)\n",
    "  return dataset, labels\n",
    "train_dataset, train_labels = reformat(train_dataset, train_labels)\n",
    "valid_dataset, valid_labels = reformat(valid_dataset, valid_labels)\n",
    "test_dataset, test_labels = reformat(test_dataset, test_labels)\n",
    "print('Training set', train_dataset.shape, train_labels.shape)\n",
    "print('Validation set', valid_dataset.shape, valid_labels.shape)\n",
    "print('Test set', test_dataset.shape, test_labels.shape)"
   ]
  },
  {
   "cell_type": "code",
   "execution_count": 4,
   "metadata": {
    "cellView": "both",
    "colab": {
     "autoexec": {
      "startup": false,
      "wait_interval": 0
     }
    },
    "colab_type": "code",
    "collapsed": true,
    "id": "AgQDIREv02p1"
   },
   "outputs": [],
   "source": [
    "def accuracy(predictions, labels):\n",
    "  return (100.0 * np.sum(np.argmax(predictions, 1) == np.argmax(labels, 1))\n",
    "          / predictions.shape[0])"
   ]
  },
  {
   "cell_type": "markdown",
   "metadata": {
    "colab_type": "text",
    "id": "5rhgjmROXu2O"
   },
   "source": [
    "Let's build a small network with two convolutional layers, followed by one fully connected layer. Convolutional networks are more expensive computationally, so we'll limit its depth and number of fully connected nodes."
   ]
  },
  {
   "cell_type": "code",
   "execution_count": 20,
   "metadata": {
    "cellView": "both",
    "colab": {
     "autoexec": {
      "startup": false,
      "wait_interval": 0
     }
    },
    "colab_type": "code",
    "collapsed": false,
    "id": "IZYv70SvvOan"
   },
   "outputs": [
    {
     "name": "stdout",
     "output_type": "stream",
     "text": [
      "(16, 7, 7, 16)\n",
      "(16, 784)\n",
      "(10000, 7, 7, 16)\n",
      "(10000, 784)\n",
      "(10000, 7, 7, 16)\n",
      "(10000, 784)\n"
     ]
    }
   ],
   "source": [
    "batch_size = 16\n",
    "patch_size = 5\n",
    "depth = 16\n",
    "num_hidden = 64\n",
    "\n",
    "graph = tf.Graph()\n",
    "\n",
    "with graph.as_default():\n",
    "\n",
    "  # Input data.\n",
    "  tf_train_dataset = tf.placeholder(tf.float32, shape=(batch_size, image_size, image_size, num_channels))\n",
    "  tf_train_labels = tf.placeholder(tf.float32, shape=(batch_size, num_labels))\n",
    "  tf_valid_dataset = tf.constant(valid_dataset)\n",
    "  tf_test_dataset = tf.constant(test_dataset)\n",
    "  \n",
    "  # Variables.\n",
    "  layer1_weights = tf.Variable(tf.truncated_normal([patch_size, patch_size, num_channels, depth], stddev=0.1))\n",
    "  layer1_biases = tf.Variable(tf.zeros([depth]))\n",
    "  layer2_weights = tf.Variable(tf.truncated_normal([patch_size, patch_size, depth, depth], stddev=0.1))\n",
    "  layer2_biases = tf.Variable(tf.constant(1.0, shape=[depth]))\n",
    "  layer3_weights = tf.Variable(tf.truncated_normal([image_size // 4 * image_size // 4 * depth, num_hidden], stddev=0.1))\n",
    "  layer3_biases = tf.Variable(tf.constant(1.0, shape=[num_hidden]))\n",
    "  layer4_weights = tf.Variable(tf.truncated_normal([num_hidden, num_labels], stddev=0.1))\n",
    "  layer4_biases = tf.Variable(tf.constant(1.0, shape=[num_labels]))\n",
    "  \n",
    "  # Model.\n",
    "  def model(data):\n",
    "    conv = tf.nn.conv2d(data, layer1_weights, [1, 2, 2, 1], padding='SAME')\n",
    "    hidden = tf.nn.relu(conv + layer1_biases)\n",
    "    conv = tf.nn.conv2d(hidden, layer2_weights, [1, 2, 2, 1], padding='SAME')\n",
    "    hidden = tf.nn.relu(conv + layer2_biases)\n",
    "    print(hidden.get_shape())\n",
    "    shape = hidden.get_shape().as_list()\n",
    "    reshape = tf.reshape(hidden, [shape[0], shape[1] * shape[2] * shape[3]])\n",
    "    print(reshape.get_shape())\n",
    "    hidden = tf.nn.relu(tf.matmul(reshape, layer3_weights) + layer3_biases)\n",
    "    return tf.matmul(hidden, layer4_weights) + layer4_biases\n",
    "  \n",
    "  # Training computation.\n",
    "  logits = model(tf_train_dataset)\n",
    "  loss = tf.reduce_mean(\n",
    "    tf.nn.softmax_cross_entropy_with_logits(logits, tf_train_labels))\n",
    "    \n",
    "  # Optimizer.\n",
    "  optimizer = tf.train.GradientDescentOptimizer(0.05).minimize(loss)\n",
    "  \n",
    "  # Predictions for the training, validation, and test data.\n",
    "  train_prediction = tf.nn.softmax(logits)\n",
    "  valid_prediction = tf.nn.softmax(model(tf_valid_dataset))\n",
    "  test_prediction = tf.nn.softmax(model(tf_test_dataset))"
   ]
  },
  {
   "cell_type": "code",
   "execution_count": 6,
   "metadata": {
    "cellView": "both",
    "colab": {
     "autoexec": {
      "startup": false,
      "wait_interval": 0
     },
     "output_extras": [
      {
       "item_id": 37
      }
     ]
    },
    "colab_type": "code",
    "collapsed": false,
    "executionInfo": {
     "elapsed": 63292,
     "status": "ok",
     "timestamp": 1446658966251,
     "user": {
      "color": "",
      "displayName": "",
      "isAnonymous": false,
      "isMe": true,
      "permissionId": "",
      "photoUrl": "",
      "sessionId": "0",
      "userId": ""
     },
     "user_tz": 480
    },
    "id": "noKFb2UovVFR",
    "outputId": "28941338-2ef9-4088-8bd1-44295661e628"
   },
   "outputs": [
    {
     "name": "stdout",
     "output_type": "stream",
     "text": [
      "Initialized\n",
      "Minibatch loss at step 0: 2.907547\n",
      "Minibatch accuracy: 6.2%\n",
      "Validation accuracy: 10.0%\n",
      "Minibatch loss at step 50: 1.522375\n",
      "Minibatch accuracy: 37.5%\n",
      "Validation accuracy: 67.3%\n",
      "Minibatch loss at step 100: 0.816986\n",
      "Minibatch accuracy: 68.8%\n",
      "Validation accuracy: 76.2%\n",
      "Minibatch loss at step 150: 1.427509\n",
      "Minibatch accuracy: 62.5%\n",
      "Validation accuracy: 75.7%\n",
      "Minibatch loss at step 200: 0.394903\n",
      "Minibatch accuracy: 81.2%\n",
      "Validation accuracy: 78.9%\n",
      "Minibatch loss at step 250: 0.847563\n",
      "Minibatch accuracy: 75.0%\n",
      "Validation accuracy: 79.1%\n",
      "Minibatch loss at step 300: 1.028584\n",
      "Minibatch accuracy: 75.0%\n",
      "Validation accuracy: 79.6%\n",
      "Minibatch loss at step 350: 0.688859\n",
      "Minibatch accuracy: 75.0%\n",
      "Validation accuracy: 79.8%\n",
      "Minibatch loss at step 400: 0.545253\n",
      "Minibatch accuracy: 81.2%\n",
      "Validation accuracy: 79.7%\n",
      "Minibatch loss at step 450: 0.661375\n",
      "Minibatch accuracy: 81.2%\n",
      "Validation accuracy: 81.1%\n",
      "Minibatch loss at step 500: 0.741445\n",
      "Minibatch accuracy: 75.0%\n",
      "Validation accuracy: 79.9%\n",
      "Minibatch loss at step 550: 0.551932\n",
      "Minibatch accuracy: 87.5%\n",
      "Validation accuracy: 82.0%\n",
      "Minibatch loss at step 600: 0.733121\n",
      "Minibatch accuracy: 75.0%\n",
      "Validation accuracy: 82.8%\n",
      "Minibatch loss at step 650: 1.583988\n",
      "Minibatch accuracy: 62.5%\n",
      "Validation accuracy: 81.6%\n",
      "Minibatch loss at step 700: 0.928234\n",
      "Minibatch accuracy: 75.0%\n",
      "Validation accuracy: 82.7%\n",
      "Minibatch loss at step 750: 1.345479\n",
      "Minibatch accuracy: 56.2%\n",
      "Validation accuracy: 82.7%\n",
      "Minibatch loss at step 800: 0.914207\n",
      "Minibatch accuracy: 75.0%\n",
      "Validation accuracy: 83.0%\n",
      "Minibatch loss at step 850: 0.580043\n",
      "Minibatch accuracy: 87.5%\n",
      "Validation accuracy: 83.5%\n",
      "Minibatch loss at step 900: 0.505458\n",
      "Minibatch accuracy: 87.5%\n",
      "Validation accuracy: 83.1%\n",
      "Minibatch loss at step 950: 0.359077\n",
      "Minibatch accuracy: 93.8%\n",
      "Validation accuracy: 83.4%\n",
      "Minibatch loss at step 1000: 0.513994\n",
      "Minibatch accuracy: 87.5%\n",
      "Validation accuracy: 83.8%\n",
      "Test accuracy: 89.9%\n"
     ]
    }
   ],
   "source": [
    "num_steps = 1001\n",
    "\n",
    "with tf.Session(graph=graph) as session:\n",
    "  tf.initialize_all_variables().run()\n",
    "  print('Initialized')\n",
    "  for step in range(num_steps):\n",
    "    offset = (step * batch_size) % (train_labels.shape[0] - batch_size)\n",
    "    batch_data = train_dataset[offset:(offset + batch_size), :, :, :]\n",
    "    batch_labels = train_labels[offset:(offset + batch_size), :]\n",
    "    feed_dict = {tf_train_dataset : batch_data, tf_train_labels : batch_labels}\n",
    "    _, l, predictions = session.run(\n",
    "      [optimizer, loss, train_prediction], feed_dict=feed_dict)\n",
    "    if (step % 50 == 0):\n",
    "      print('Minibatch loss at step %d: %f' % (step, l))\n",
    "      print('Minibatch accuracy: %.1f%%' % accuracy(predictions, batch_labels))\n",
    "      print('Validation accuracy: %.1f%%' % accuracy(\n",
    "        valid_prediction.eval(), valid_labels))\n",
    "  print('Test accuracy: %.1f%%' % accuracy(test_prediction.eval(), test_labels))"
   ]
  },
  {
   "cell_type": "markdown",
   "metadata": {
    "colab_type": "text",
    "id": "KedKkn4EutIK"
   },
   "source": [
    "---\n",
    "Problem 1\n",
    "---------\n",
    "\n",
    "The convolutional model above uses convolutions with stride 2 to reduce the dimensionality. Replace the strides by a max pooling operation (`nn.max_pool()`) of stride 2 and kernel size 2.\n",
    "\n",
    "---"
   ]
  },
  {
   "cell_type": "code",
   "execution_count": 7,
   "metadata": {
    "collapsed": false
   },
   "outputs": [
    {
     "name": "stdout",
     "output_type": "stream",
     "text": [
      "Initialized\n",
      "Minibatch loss at step 0: 2.486484\n",
      "Minibatch accuracy: 6.2%\n",
      "Validation accuracy: 10.0%\n",
      "Minibatch loss at step 50: 2.316186\n",
      "Minibatch accuracy: 12.5%\n",
      "Validation accuracy: 17.7%\n",
      "Minibatch loss at step 100: 2.274845\n",
      "Minibatch accuracy: 12.5%\n",
      "Validation accuracy: 11.4%\n",
      "Minibatch loss at step 150: 2.215283\n",
      "Minibatch accuracy: 18.8%\n",
      "Validation accuracy: 13.7%\n",
      "Minibatch loss at step 200: 2.086627\n",
      "Minibatch accuracy: 18.8%\n",
      "Validation accuracy: 19.4%\n",
      "Minibatch loss at step 250: 2.347556\n",
      "Minibatch accuracy: 12.5%\n",
      "Validation accuracy: 18.0%\n",
      "Minibatch loss at step 300: 1.884783\n",
      "Minibatch accuracy: 37.5%\n",
      "Validation accuracy: 36.2%\n",
      "Minibatch loss at step 350: 2.045194\n",
      "Minibatch accuracy: 25.0%\n",
      "Validation accuracy: 33.2%\n",
      "Minibatch loss at step 400: 2.119556\n",
      "Minibatch accuracy: 25.0%\n",
      "Validation accuracy: 27.8%\n",
      "Minibatch loss at step 450: 1.472070\n",
      "Minibatch accuracy: 62.5%\n",
      "Validation accuracy: 30.0%\n",
      "Minibatch loss at step 500: 1.597845\n",
      "Minibatch accuracy: 43.8%\n",
      "Validation accuracy: 52.2%\n",
      "Minibatch loss at step 550: 0.986506\n",
      "Minibatch accuracy: 75.0%\n",
      "Validation accuracy: 58.7%\n",
      "Minibatch loss at step 600: 1.428235\n",
      "Minibatch accuracy: 43.8%\n",
      "Validation accuracy: 52.1%\n",
      "Minibatch loss at step 650: 1.902858\n",
      "Minibatch accuracy: 43.8%\n",
      "Validation accuracy: 49.0%\n",
      "Minibatch loss at step 700: 1.123795\n",
      "Minibatch accuracy: 56.2%\n",
      "Validation accuracy: 65.3%\n",
      "Minibatch loss at step 750: 1.337980\n",
      "Minibatch accuracy: 62.5%\n",
      "Validation accuracy: 69.2%\n",
      "Minibatch loss at step 800: 1.276020\n",
      "Minibatch accuracy: 62.5%\n",
      "Validation accuracy: 70.9%\n",
      "Minibatch loss at step 850: 1.038329\n",
      "Minibatch accuracy: 75.0%\n",
      "Validation accuracy: 70.5%\n",
      "Minibatch loss at step 900: 0.829758\n",
      "Minibatch accuracy: 62.5%\n",
      "Validation accuracy: 69.9%\n",
      "Minibatch loss at step 950: 0.385822\n",
      "Minibatch accuracy: 87.5%\n",
      "Validation accuracy: 75.0%\n",
      "Minibatch loss at step 1000: 0.901219\n",
      "Minibatch accuracy: 75.0%\n",
      "Validation accuracy: 75.3%\n",
      "Test accuracy: 81.5%\n"
     ]
    }
   ],
   "source": [
    "batch_size = 16\n",
    "patch_size = 5\n",
    "depth = 16\n",
    "num_hidden = 64\n",
    "\n",
    "graph = tf.Graph()\n",
    "\n",
    "with graph.as_default():\n",
    "\n",
    "  # Input data.\n",
    "  tf_train_dataset = tf.placeholder(tf.float32, shape=(batch_size, image_size, image_size, num_channels))\n",
    "  tf_train_labels = tf.placeholder(tf.float32, shape=(batch_size, num_labels))\n",
    "  tf_valid_dataset = tf.constant(valid_dataset)\n",
    "  tf_test_dataset = tf.constant(test_dataset)\n",
    "  \n",
    "  # Variables.\n",
    "  layer1_weights = tf.Variable(tf.truncated_normal([patch_size, patch_size, num_channels, depth], stddev=0.1))\n",
    "  layer1_biases = tf.Variable(tf.zeros([depth]))\n",
    "  layer2_weights = tf.Variable(tf.truncated_normal([patch_size, patch_size, depth, depth], stddev=0.1))\n",
    "  layer2_biases = tf.Variable(tf.constant(1.0, shape=[depth]))\n",
    "  layer3_weights = tf.Variable(tf.truncated_normal([image_size // 4 * image_size // 4 * depth, num_hidden], stddev=0.1))\n",
    "  layer3_biases = tf.Variable(tf.constant(1.0, shape=[num_hidden]))\n",
    "  layer4_weights = tf.Variable(tf.truncated_normal([num_hidden, num_labels], stddev=0.1))\n",
    "  layer4_biases = tf.Variable(tf.constant(1.0, shape=[num_labels]))\n",
    "  \n",
    "  # Model.\n",
    "  def model(data):\n",
    "    max_pool = tf.nn.max_pool(data, [1, 2, 2, 1], [1, 2, 2, 1], padding='SAME')\n",
    "    #conv = tf.nn.conv2d(data, layer1_weights, [1, 2, 2, 1], padding='SAME')\n",
    "    hidden = tf.nn.relu(max_pool + layer1_biases)\n",
    "    max_pool = tf.nn.max_pool(hidden, [1, 2, 2, 1], [1, 2, 2, 1], padding='SAME')\n",
    "    #conv = tf.nn.conv2d(hidden, layer2_weights, [1, 2, 2, 1], padding='SAME')\n",
    "    hidden = tf.nn.relu(max_pool + layer2_biases)\n",
    "    shape = hidden.get_shape().as_list()\n",
    "    reshape = tf.reshape(hidden, [shape[0], shape[1] * shape[2] * shape[3]])\n",
    "    hidden = tf.nn.relu(tf.matmul(reshape, layer3_weights) + layer3_biases)\n",
    "    return tf.matmul(hidden, layer4_weights) + layer4_biases\n",
    "  \n",
    "  # Training computation.\n",
    "  logits = model(tf_train_dataset)\n",
    "  loss = tf.reduce_mean(tf.nn.softmax_cross_entropy_with_logits(logits, tf_train_labels))\n",
    "    \n",
    "  # Optimizer.\n",
    "  optimizer = tf.train.GradientDescentOptimizer(0.05).minimize(loss)\n",
    "  \n",
    "  # Predictions for the training, validation, and test data.\n",
    "  train_prediction = tf.nn.softmax(logits)\n",
    "  valid_prediction = tf.nn.softmax(model(tf_valid_dataset))\n",
    "  test_prediction = tf.nn.softmax(model(tf_test_dataset))\n",
    "\n",
    "num_steps = 1001\n",
    "\n",
    "with tf.Session(graph=graph) as session:\n",
    "  tf.initialize_all_variables().run()\n",
    "  print('Initialized')\n",
    "  for step in range(num_steps):\n",
    "    offset = (step * batch_size) % (train_labels.shape[0] - batch_size)\n",
    "    batch_data = train_dataset[offset:(offset + batch_size), :, :, :]\n",
    "    batch_labels = train_labels[offset:(offset + batch_size), :]\n",
    "    feed_dict = {tf_train_dataset : batch_data, tf_train_labels : batch_labels}\n",
    "    _, l, predictions = session.run(\n",
    "      [optimizer, loss, train_prediction], feed_dict=feed_dict)\n",
    "    if (step % 50 == 0):\n",
    "      print('Minibatch loss at step %d: %f' % (step, l))\n",
    "      print('Minibatch accuracy: %.1f%%' % accuracy(predictions, batch_labels))\n",
    "      print('Validation accuracy: %.1f%%' % accuracy(\n",
    "        valid_prediction.eval(), valid_labels))\n",
    "  print('Test accuracy: %.1f%%' % accuracy(test_prediction.eval(), test_labels))"
   ]
  },
  {
   "cell_type": "markdown",
   "metadata": {
    "colab_type": "text",
    "id": "klf21gpbAgb-"
   },
   "source": [
    "---\n",
    "Problem 2\n",
    "---------\n",
    "\n",
    "Try to get the best performance you can using a convolutional net. Look for example at the classic [LeNet5](http://yann.lecun.com/exdb/lenet/) architecture, adding Dropout, and/or adding learning rate decay.\n",
    "\n",
    "---"
   ]
  },
  {
   "cell_type": "code",
   "execution_count": 37,
   "metadata": {
    "collapsed": false
   },
   "outputs": [
    {
     "name": "stdout",
     "output_type": "stream",
     "text": [
      "Initialized\n",
      "Minibatch loss at step 0: 2.304138\n",
      "Minibatch accuracy: 8.5%\n",
      "Validation accuracy: 11.6%\n",
      "Minibatch loss at step 50: 2.295171\n",
      "Minibatch accuracy: 27.9%\n",
      "Validation accuracy: 29.3%\n",
      "Minibatch loss at step 100: 2.271788\n",
      "Minibatch accuracy: 44.2%\n",
      "Validation accuracy: 38.9%\n",
      "Minibatch loss at step 150: 2.220069\n",
      "Minibatch accuracy: 50.1%\n",
      "Validation accuracy: 50.9%\n",
      "Minibatch loss at step 200: 2.085104\n",
      "Minibatch accuracy: 56.5%\n",
      "Validation accuracy: 56.6%\n",
      "Minibatch loss at step 250: 1.942979\n",
      "Minibatch accuracy: 64.9%\n",
      "Validation accuracy: 65.0%\n",
      "Minibatch loss at step 300: 1.820863\n",
      "Minibatch accuracy: 69.7%\n",
      "Validation accuracy: 69.8%\n",
      "Minibatch loss at step 350: 1.787056\n",
      "Minibatch accuracy: 69.1%\n",
      "Validation accuracy: 71.0%\n",
      "Minibatch loss at step 400: 1.727050\n",
      "Minibatch accuracy: 71.5%\n",
      "Validation accuracy: 72.3%\n",
      "Minibatch loss at step 450: 1.678516\n",
      "Minibatch accuracy: 73.1%\n",
      "Validation accuracy: 72.7%\n",
      "Minibatch loss at step 500: 1.640676\n",
      "Minibatch accuracy: 80.3%\n",
      "Validation accuracy: 80.9%\n",
      "Test accuracy: 87.2%\n"
     ]
    }
   ],
   "source": [
    "batch_size = 2000\n",
    "patch_size = 5\n",
    "depth = 16\n",
    "num_hidden = 64\n",
    "stddev = 0.1\n",
    "\n",
    "graph = tf.Graph()\n",
    "\n",
    "with graph.as_default():\n",
    "\n",
    "  # Input data.\n",
    "  tf_train_dataset = tf.placeholder(tf.float32, shape=(batch_size, image_size, image_size, num_channels))\n",
    "  tf_train_labels = tf.placeholder(tf.float32, shape=(batch_size, num_labels))\n",
    "  tf_valid_dataset = tf.constant(valid_dataset)\n",
    "  tf_test_dataset = tf.constant(test_dataset)\n",
    "  \n",
    "  # Variables.  \n",
    "  conv1_weights = tf.Variable(tf.truncated_normal([1, 1, 1, 4], stddev=stddev))\n",
    "  conv1_biases = tf.Variable(tf.constant(0.001, shape=[4]))\n",
    "\n",
    "  conv2_weights = tf.Variable(tf.truncated_normal([1, 1, 1, 4], stddev=stddev))\n",
    "  conv2_biases = tf.Variable(tf.constant(0.001, shape=[4]))\n",
    "\n",
    "  conv3_weights = tf.Variable(tf.truncated_normal([1, 1, 8, 8], stddev=stddev))\n",
    "  conv3_biases = tf.Variable(tf.constant(0.001, shape=[8]))\n",
    "\n",
    "  conv4_weights = tf.Variable(tf.truncated_normal([2, 2, 8, 8], stddev=stddev))\n",
    "  conv4_biases = tf.Variable(tf.constant(0.001, shape=[8]))\n",
    "\n",
    "  conv5_weights = tf.Variable(tf.truncated_normal([1, 1, 16, 16], stddev=stddev))\n",
    "  conv5_biases = tf.Variable(tf.constant(0.001, shape=[16]))\n",
    "  \n",
    "  conv6_weights = tf.Variable(tf.truncated_normal([3, 3, 16, 16], stddev=stddev))\n",
    "  conv6_biases = tf.Variable(tf.constant(0.001, shape=[16]))\n",
    "\n",
    "  fc1_weights = tf.Variable(tf.truncated_normal([7 * 7 * 32, 512], stddev=stddev))\n",
    "  fc1_biases = tf.Variable(tf.constant(0.001, shape=[512]))\n",
    "\n",
    "  fc2_weights = tf.Variable(tf.truncated_normal([512, num_labels], stddev=stddev))\n",
    "  fc2_biases = tf.Variable(tf.constant(0.001, shape=[num_labels]))\n",
    "\n",
    "  # Model.\n",
    "  def model(data, with_dropout=False):\n",
    "    conv1 = tf.nn.conv2d(data, conv1_weights, [1, 1, 1, 1], padding='SAME')\n",
    "    conv1 = tf.nn.relu(conv1 + conv1_biases)\n",
    "    \n",
    "    pool1 = tf.nn.max_pool(data, [1, 2, 2, 1], [1, 1, 1, 1], padding='SAME')\n",
    "    conv2 = tf.nn.conv2d(pool1, conv2_weights, [1, 1, 1, 1], padding='SAME')\n",
    "    conv2 = tf.nn.relu(conv2 + conv2_biases)\n",
    "    \n",
    "    miniception1 = tf.concat(3, [conv1, conv2])\n",
    "    \n",
    "    conv3 = tf.nn.conv2d(miniception1, conv3_weights, [1, 1, 1, 1], padding='SAME')\n",
    "    conv3 = tf.nn.relu(conv3 + conv3_biases)\n",
    "    \n",
    "    pool2 = tf.nn.max_pool(miniception1, [1, 2, 2, 1], [1, 1, 1, 1], padding='SAME')\n",
    "    conv4 = tf.nn.conv2d(pool2, conv4_weights, [1, 1, 1, 1], padding='SAME')\n",
    "    conv4 = tf.nn.relu(conv4 + conv4_biases)\n",
    "    \n",
    "    miniception2 = tf.concat(3, [conv3, conv4])\n",
    "    \n",
    "    pool3 = tf.nn.max_pool(miniception2, [1, 2, 2, 1], [1, 2, 2, 1], padding='SAME')\n",
    "    \n",
    "    conv5 = tf.nn.conv2d(pool3, conv5_weights, [1, 1, 1, 1], padding='SAME')\n",
    "    conv5 = tf.nn.relu(conv5 + conv5_biases)\n",
    "    \n",
    "    conv6 = tf.nn.conv2d(pool3, conv6_weights, [1, 1, 1, 1], padding='SAME')\n",
    "    conv6 = tf.nn.relu(conv6 + conv6_biases)\n",
    "    \n",
    "    miniception3 = tf.concat(3, [conv5, conv6])\n",
    "    \n",
    "    pool4 = tf.nn.max_pool(miniception3, [1, 2, 2, 1], [1, 2, 2, 1], padding='SAME')\n",
    "    \n",
    "    # Bridge from 3D to 1D\n",
    "    final_filter = pool4\n",
    "    shape = final_filter.get_shape().as_list()\n",
    "    bridged = tf.reshape(final_filter, [shape[0], shape[1] * shape[2] * shape[3]])\n",
    "    \n",
    "    fc1 = tf.matmul(bridged, fc1_weights) + fc1_biases\n",
    "    if with_dropout:\n",
    "        fc1 = tf.nn.dropout(fc1, 0.5)\n",
    "    fc1 = tf.nn.relu(fc1)\n",
    "\n",
    "    fc2 = tf.matmul(fc1, fc2_weights) + fc2_biases\n",
    "    if with_dropout:\n",
    "        fc2 = tf.nn.dropout(fc2, 0.5)\n",
    "    fc2 = tf.nn.relu(fc2)\n",
    "    \n",
    "    final = fc2\n",
    "    return final\n",
    "\n",
    "  # Training computation.\n",
    "  logits = model(tf_train_dataset, with_dropout=True)\n",
    "  loss = tf.reduce_mean(tf.nn.softmax_cross_entropy_with_logits(logits, tf_train_labels))\n",
    "    \n",
    "  # Optimizer.\n",
    "  optimizer = tf.train.GradientDescentOptimizer(0.05).minimize(loss)\n",
    "  \n",
    "  # Predictions for the training, validation, and test data.\n",
    "  train_prediction = tf.nn.softmax(model(tf_train_dataset))\n",
    "  valid_prediction = tf.nn.softmax(model(tf_valid_dataset))\n",
    "  test_prediction = tf.nn.softmax(model(tf_test_dataset))\n",
    "\n",
    "num_steps = 501\n",
    "\n",
    "with tf.Session(graph=graph) as session:\n",
    "  tf.initialize_all_variables().run()\n",
    "  print('Initialized')\n",
    "  for step in range(num_steps):\n",
    "    offset = (step * batch_size) % (train_labels.shape[0] - batch_size)\n",
    "    batch_data = train_dataset[offset:(offset + batch_size), :, :, :]\n",
    "    batch_labels = train_labels[offset:(offset + batch_size), :]\n",
    "    feed_dict = {tf_train_dataset : batch_data, tf_train_labels : batch_labels}\n",
    "    _, l, predictions = session.run(\n",
    "      [optimizer, loss, train_prediction], feed_dict=feed_dict)\n",
    "    if (step % 50 == 0):\n",
    "      print('Minibatch loss at step %d: %f' % (step, l))\n",
    "      print('Minibatch accuracy: %.1f%%' % accuracy(predictions, batch_labels))\n",
    "      print('Validation accuracy: %.1f%%' % accuracy(valid_prediction.eval(), valid_labels))\n",
    "  print('Test accuracy: %.1f%%' % accuracy(test_prediction.eval(), test_labels))"
   ]
  },
  {
   "cell_type": "markdown",
   "metadata": {
    "collapsed": true
   },
   "source": []
  }
 ],
 "metadata": {
  "colab": {
   "default_view": {},
   "name": "4_convolutions.ipynb",
   "provenance": [],
   "version": "0.3.2",
   "views": {}
  },
  "kernelspec": {
   "display_name": "Python 2",
   "language": "python",
   "name": "python2"
  },
  "language_info": {
   "codemirror_mode": {
    "name": "ipython",
    "version": 2
   },
   "file_extension": ".py",
   "mimetype": "text/x-python",
   "name": "python",
   "nbconvert_exporter": "python",
   "pygments_lexer": "ipython2",
   "version": "2.7.6"
  }
 },
 "nbformat": 4,
 "nbformat_minor": 0
}
