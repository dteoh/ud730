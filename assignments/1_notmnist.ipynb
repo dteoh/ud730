{
 "cells": [
  {
   "cell_type": "markdown",
   "metadata": {
    "colab_type": "text",
    "id": "5hIbr52I7Z7U"
   },
   "source": [
    "Deep Learning\n",
    "=============\n",
    "\n",
    "Assignment 1\n",
    "------------\n",
    "\n",
    "The objective of this assignment is to learn about simple data curation practices, and familiarize you with some of the data we'll be reusing later.\n",
    "\n",
    "This notebook uses the [notMNIST](http://yaroslavvb.blogspot.com/2011/09/notmnist-dataset.html) dataset to be used with python experiments. This dataset is designed to look like the classic [MNIST](http://yann.lecun.com/exdb/mnist/) dataset, while looking a little more like real data: it's a harder task, and the data is a lot less 'clean' than MNIST."
   ]
  },
  {
   "cell_type": "code",
   "execution_count": 1,
   "metadata": {
    "cellView": "both",
    "colab": {
     "autoexec": {
      "startup": false,
      "wait_interval": 0
     }
    },
    "colab_type": "code",
    "collapsed": true,
    "id": "apJbCsBHl-2A"
   },
   "outputs": [],
   "source": [
    "# These are all the modules we'll be using later. Make sure you can import them\n",
    "# before proceeding further.\n",
    "from __future__ import print_function\n",
    "import matplotlib.pyplot as plt\n",
    "import numpy as np\n",
    "import os\n",
    "import sys\n",
    "import tarfile\n",
    "from IPython.display import display, Image\n",
    "from scipy import ndimage\n",
    "from sklearn.linear_model import LogisticRegression\n",
    "from six.moves.urllib.request import urlretrieve\n",
    "from six.moves import cPickle as pickle"
   ]
  },
  {
   "cell_type": "markdown",
   "metadata": {
    "colab_type": "text",
    "id": "jNWGtZaXn-5j"
   },
   "source": [
    "First, we'll download the dataset to our local machine. The data consists of characters rendered in a variety of fonts on a 28x28 image. The labels are limited to 'A' through 'J' (10 classes). The training set has about 500k and the testset 19000 labelled examples. Given these sizes, it should be possible to train models quickly on any machine."
   ]
  },
  {
   "cell_type": "code",
   "execution_count": 2,
   "metadata": {
    "cellView": "both",
    "colab": {
     "autoexec": {
      "startup": false,
      "wait_interval": 0
     },
     "output_extras": [
      {
       "item_id": 1
      }
     ]
    },
    "colab_type": "code",
    "collapsed": false,
    "executionInfo": {
     "elapsed": 186058,
     "status": "ok",
     "timestamp": 1444485672507,
     "user": {
      "color": "#1FA15D",
      "displayName": "Vincent Vanhoucke",
      "isAnonymous": false,
      "isMe": true,
      "permissionId": "05076109866853157986",
      "photoUrl": "//lh6.googleusercontent.com/-cCJa7dTDcgQ/AAAAAAAAAAI/AAAAAAAACgw/r2EZ_8oYer4/s50-c-k-no/photo.jpg",
      "sessionId": "2a0a5e044bb03b66",
      "userId": "102167687554210253930"
     },
     "user_tz": 420
    },
    "id": "EYRJ4ICW6-da",
    "outputId": "0d0f85df-155f-4a89-8e7e-ee32df36ec8d"
   },
   "outputs": [
    {
     "name": "stdout",
     "output_type": "stream",
     "text": [
      "Found and verified notMNIST_large.tar.gz\n",
      "Found and verified notMNIST_small.tar.gz\n"
     ]
    }
   ],
   "source": [
    "url = 'http://commondatastorage.googleapis.com/books1000/'\n",
    "\n",
    "def maybe_download(filename, expected_bytes, force=False):\n",
    "  \"\"\"Download a file if not present, and make sure it's the right size.\"\"\"\n",
    "  if force or not os.path.exists(filename):\n",
    "    filename, _ = urlretrieve(url + filename, filename)\n",
    "  statinfo = os.stat(filename)\n",
    "  if statinfo.st_size == expected_bytes:\n",
    "    print('Found and verified', filename)\n",
    "  else:\n",
    "    raise Exception(\n",
    "      'Failed to verify ' + filename + '. Can you get to it with a browser?')\n",
    "  return filename\n",
    "\n",
    "train_filename = maybe_download('notMNIST_large.tar.gz', 247336696)\n",
    "test_filename = maybe_download('notMNIST_small.tar.gz', 8458043)"
   ]
  },
  {
   "cell_type": "markdown",
   "metadata": {
    "colab_type": "text",
    "id": "cC3p0oEyF8QT"
   },
   "source": [
    "Extract the dataset from the compressed .tar.gz file.\n",
    "This should give you a set of directories, labelled A through J."
   ]
  },
  {
   "cell_type": "code",
   "execution_count": 3,
   "metadata": {
    "cellView": "both",
    "colab": {
     "autoexec": {
      "startup": false,
      "wait_interval": 0
     },
     "output_extras": [
      {
       "item_id": 1
      }
     ]
    },
    "colab_type": "code",
    "collapsed": false,
    "executionInfo": {
     "elapsed": 186055,
     "status": "ok",
     "timestamp": 1444485672525,
     "user": {
      "color": "#1FA15D",
      "displayName": "Vincent Vanhoucke",
      "isAnonymous": false,
      "isMe": true,
      "permissionId": "05076109866853157986",
      "photoUrl": "//lh6.googleusercontent.com/-cCJa7dTDcgQ/AAAAAAAAAAI/AAAAAAAACgw/r2EZ_8oYer4/s50-c-k-no/photo.jpg",
      "sessionId": "2a0a5e044bb03b66",
      "userId": "102167687554210253930"
     },
     "user_tz": 420
    },
    "id": "H8CBE-WZ8nmj",
    "outputId": "ef6c790c-2513-4b09-962e-27c79390c762"
   },
   "outputs": [
    {
     "name": "stdout",
     "output_type": "stream",
     "text": [
      "notMNIST_large already present - Skipping extraction of notMNIST_large.tar.gz.\n",
      "['notMNIST_large/A', 'notMNIST_large/B', 'notMNIST_large/C', 'notMNIST_large/D', 'notMNIST_large/E', 'notMNIST_large/F', 'notMNIST_large/G', 'notMNIST_large/H', 'notMNIST_large/I', 'notMNIST_large/J']\n",
      "notMNIST_small already present - Skipping extraction of notMNIST_small.tar.gz.\n",
      "['notMNIST_small/A', 'notMNIST_small/B', 'notMNIST_small/C', 'notMNIST_small/D', 'notMNIST_small/E', 'notMNIST_small/F', 'notMNIST_small/G', 'notMNIST_small/H', 'notMNIST_small/I', 'notMNIST_small/J']\n"
     ]
    }
   ],
   "source": [
    "num_classes = 10\n",
    "np.random.seed(133)\n",
    "\n",
    "def maybe_extract(filename, force=False):\n",
    "  root = os.path.splitext(os.path.splitext(filename)[0])[0]  # remove .tar.gz\n",
    "  if os.path.isdir(root) and not force:\n",
    "    # You may override by setting force=True.\n",
    "    print('%s already present - Skipping extraction of %s.' % (root, filename))\n",
    "  else:\n",
    "    print('Extracting data for %s. This may take a while. Please wait.' % root)\n",
    "    tar = tarfile.open(filename)\n",
    "    sys.stdout.flush()\n",
    "    tar.extractall()\n",
    "    tar.close()\n",
    "  data_folders = [\n",
    "    os.path.join(root, d) for d in sorted(os.listdir(root))\n",
    "    if os.path.isdir(os.path.join(root, d))]\n",
    "  if len(data_folders) != num_classes:\n",
    "    raise Exception(\n",
    "      'Expected %d folders, one per class. Found %d instead.' % (\n",
    "        num_classes, len(data_folders)))\n",
    "  print(data_folders)\n",
    "  return data_folders\n",
    "  \n",
    "train_folders = maybe_extract(train_filename)\n",
    "test_folders = maybe_extract(test_filename)"
   ]
  },
  {
   "cell_type": "markdown",
   "metadata": {
    "colab_type": "text",
    "id": "4riXK3IoHgx6"
   },
   "source": [
    "---\n",
    "Problem 1\n",
    "---------\n",
    "\n",
    "Let's take a peek at some of the data to make sure it looks sensible. Each exemplar should be an image of a character A through J rendered in a different font. Display a sample of the images that we just downloaded. Hint: you can use the package IPython.display.\n",
    "\n",
    "---"
   ]
  },
  {
   "cell_type": "code",
   "execution_count": 4,
   "metadata": {
    "collapsed": false
   },
   "outputs": [
    {
     "data": {
      "image/png": "[encoded data removed]",
      "text/plain": [
       "<IPython.core.display.Image object>"
      ]
     },
     "metadata": {},
     "output_type": "display_data"
    },
    {
     "data": {
      "image/png": "[encoded data removed]",
      "text/plain": [
       "<IPython.core.display.Image object>"
      ]
     },
     "metadata": {},
     "output_type": "display_data"
    },
    {
     "data": {
      "image/png": "[encoded data removed]",
      "text/plain": [
       "<IPython.core.display.Image object>"
      ]
     },
     "metadata": {},
     "output_type": "display_data"
    },
    {
     "data": {
      "image/png": "[encoded data removed]",
      "text/plain": [
       "<IPython.core.display.Image object>"
      ]
     },
     "metadata": {},
     "output_type": "display_data"
    },
    {
     "data": {
      "image/png": "[encoded data removed]",
      "text/plain": [
       "<IPython.core.display.Image object>"
      ]
     },
     "metadata": {},
     "output_type": "display_data"
    },
    {
     "data": {
      "image/png": "[encoded data removed]",
      "text/plain": [
       "<IPython.core.display.Image object>"
      ]
     },
     "metadata": {},
     "output_type": "display_data"
    },
    {
     "data": {
      "image/png": "[encoded data removed]",
      "text/plain": [
       "<IPython.core.display.Image object>"
      ]
     },
     "metadata": {},
     "output_type": "display_data"
    },
    {
     "data": {
      "image/png": "[encoded data removed]",
      "text/plain": [
       "<IPython.core.display.Image object>"
      ]
     },
     "metadata": {},
     "output_type": "display_data"
    },
    {
     "data": {
      "image/png": "[encoded data removed]",
      "text/plain": [
       "<IPython.core.display.Image object>"
      ]
     },
     "metadata": {},
     "output_type": "display_data"
    },
    {
     "data": {
      "image/png": "[encoded data removed]",
      "text/plain": [
       "<IPython.core.display.Image object>"
      ]
     },
     "metadata": {},
     "output_type": "display_data"
    }
   ],
   "source": [
    "import random\n",
    "for char_dir in train_folders:\n",
    "    filename = random.choice(os.listdir(char_dir))\n",
    "    display(Image(filename=os.path.join(char_dir, filename)))"
   ]
  },
  {
   "cell_type": "markdown",
   "metadata": {
    "colab_type": "text",
    "id": "PBdkjESPK8tw"
   },
   "source": [
    "Now let's load the data in a more manageable format. Since, depending on your computer setup you might not be able to fit it all in memory, we'll load each class into a separate dataset, store them on disk and curate them independently. Later we'll merge them into a single dataset of manageable size.\n",
    "\n",
    "We'll convert the entire dataset into a 3D array (image index, x, y) of floating point values, normalized to have approximately zero mean and standard deviation ~0.5 to make training easier down the road. \n",
    "\n",
    "A few images might not be readable, we'll just skip them."
   ]
  },
  {
   "cell_type": "code",
   "execution_count": 5,
   "metadata": {
    "cellView": "both",
    "colab": {
     "autoexec": {
      "startup": false,
      "wait_interval": 0
     },
     "output_extras": [
      {
       "item_id": 30
      }
     ]
    },
    "colab_type": "code",
    "collapsed": false,
    "executionInfo": {
     "elapsed": 399874,
     "status": "ok",
     "timestamp": 1444485886378,
     "user": {
      "color": "#1FA15D",
      "displayName": "Vincent Vanhoucke",
      "isAnonymous": false,
      "isMe": true,
      "permissionId": "05076109866853157986",
      "photoUrl": "//lh6.googleusercontent.com/-cCJa7dTDcgQ/AAAAAAAAAAI/AAAAAAAACgw/r2EZ_8oYer4/s50-c-k-no/photo.jpg",
      "sessionId": "2a0a5e044bb03b66",
      "userId": "102167687554210253930"
     },
     "user_tz": 420
    },
    "id": "h7q0XhG3MJdf",
    "outputId": "92c391bb-86ff-431d-9ada-315568a19e59"
   },
   "outputs": [
    {
     "name": "stdout",
     "output_type": "stream",
     "text": [
      "notMNIST_large/A.pickle already present - Skipping pickling.\n",
      "notMNIST_large/B.pickle already present - Skipping pickling.\n",
      "notMNIST_large/C.pickle already present - Skipping pickling.\n",
      "notMNIST_large/D.pickle already present - Skipping pickling.\n",
      "notMNIST_large/E.pickle already present - Skipping pickling.\n",
      "notMNIST_large/F.pickle already present - Skipping pickling.\n",
      "notMNIST_large/G.pickle already present - Skipping pickling.\n",
      "notMNIST_large/H.pickle already present - Skipping pickling.\n",
      "notMNIST_large/I.pickle already present - Skipping pickling.\n",
      "notMNIST_large/J.pickle already present - Skipping pickling.\n",
      "notMNIST_small/A.pickle already present - Skipping pickling.\n",
      "notMNIST_small/B.pickle already present - Skipping pickling.\n",
      "notMNIST_small/C.pickle already present - Skipping pickling.\n",
      "notMNIST_small/D.pickle already present - Skipping pickling.\n",
      "notMNIST_small/E.pickle already present - Skipping pickling.\n",
      "notMNIST_small/F.pickle already present - Skipping pickling.\n",
      "notMNIST_small/G.pickle already present - Skipping pickling.\n",
      "notMNIST_small/H.pickle already present - Skipping pickling.\n",
      "notMNIST_small/I.pickle already present - Skipping pickling.\n",
      "notMNIST_small/J.pickle already present - Skipping pickling.\n"
     ]
    }
   ],
   "source": [
    "image_size = 28  # Pixel width and height.\n",
    "pixel_depth = 255.0  # Number of levels per pixel.\n",
    "\n",
    "def load_letter(folder, min_num_images):\n",
    "  \"\"\"Load the data for a single letter label.\"\"\"\n",
    "  image_files = os.listdir(folder)\n",
    "  dataset = np.ndarray(shape=(len(image_files), image_size, image_size),\n",
    "                         dtype=np.float32)\n",
    "  image_index = 0\n",
    "  print(folder)\n",
    "  for image in os.listdir(folder):\n",
    "    image_file = os.path.join(folder, image)\n",
    "    try:\n",
    "      image_data = (ndimage.imread(image_file).astype(float) - \n",
    "                    pixel_depth / 2) / pixel_depth\n",
    "      if image_data.shape != (image_size, image_size):\n",
    "        raise Exception('Unexpected image shape: %s' % str(image_data.shape))\n",
    "      dataset[image_index, :, :] = image_data\n",
    "      image_index += 1\n",
    "    except IOError as e:\n",
    "      print('Could not read:', image_file, ':', e, '- it\\'s ok, skipping.')\n",
    "    \n",
    "  num_images = image_index\n",
    "  dataset = dataset[0:num_images, :, :]\n",
    "  if num_images < min_num_images:\n",
    "    raise Exception('Many fewer images than expected: %d < %d' %\n",
    "                    (num_images, min_num_images))\n",
    "    \n",
    "  print('Full dataset tensor:', dataset.shape)\n",
    "  print('Mean:', np.mean(dataset))\n",
    "  print('Standard deviation:', np.std(dataset))\n",
    "  return dataset\n",
    "        \n",
    "def maybe_pickle(data_folders, min_num_images_per_class, force=False):\n",
    "  dataset_names = []\n",
    "  for folder in data_folders:\n",
    "    set_filename = folder + '.pickle'\n",
    "    dataset_names.append(set_filename)\n",
    "    if os.path.exists(set_filename) and not force:\n",
    "      # You may override by setting force=True.\n",
    "      print('%s already present - Skipping pickling.' % set_filename)\n",
    "    else:\n",
    "      print('Pickling %s.' % set_filename)\n",
    "      dataset = load_letter(folder, min_num_images_per_class)\n",
    "      try:\n",
    "        with open(set_filename, 'wb') as f:\n",
    "          pickle.dump(dataset, f, pickle.HIGHEST_PROTOCOL)\n",
    "      except Exception as e:\n",
    "        print('Unable to save data to', set_filename, ':', e)\n",
    "  \n",
    "  return dataset_names\n",
    "\n",
    "train_datasets = maybe_pickle(train_folders, 45000)\n",
    "test_datasets = maybe_pickle(test_folders, 1800)"
   ]
  },
  {
   "cell_type": "markdown",
   "metadata": {
    "colab_type": "text",
    "id": "vUdbskYE2d87"
   },
   "source": [
    "---\n",
    "Problem 2\n",
    "---------\n",
    "\n",
    "Let's verify that the data still looks good. Displaying a sample of the labels and images from the ndarray. Hint: you can use matplotlib.pyplot.\n",
    "\n",
    "---"
   ]
  },
  {
   "cell_type": "code",
   "execution_count": 15,
   "metadata": {
    "collapsed": false
   },
   "outputs": [
    {
     "data": {
      "application/javascript": [
       "/* Put everything inside the global mpl namespace */\n",
       "window.mpl = {};\n",
       "\n",
       "mpl.get_websocket_type = function() {\n",
       "    if (typeof(WebSocket) !== 'undefined') {\n",
       "        return WebSocket;\n",
       "    } else if (typeof(MozWebSocket) !== 'undefined') {\n",
       "        return MozWebSocket;\n",
       "    } else {\n",
       "        alert('Your browser does not have WebSocket support.' +\n",
       "              'Please try Chrome, Safari or Firefox ≥ 6. ' +\n",
       "              'Firefox 4 and 5 are also supported but you ' +\n",
       "              'have to enable WebSockets in about:config.');\n",
       "    };\n",
       "}\n",
       "\n",
       "mpl.figure = function(figure_id, websocket, ondownload, parent_element) {\n",
       "    this.id = figure_id;\n",
       "\n",
       "    this.ws = websocket;\n",
       "\n",
       "    this.supports_binary = (this.ws.binaryType != undefined);\n",
       "\n",
       "    if (!this.supports_binary) {\n",
       "        var warnings = document.getElementById(\"mpl-warnings\");\n",
       "        if (warnings) {\n",
       "            warnings.style.display = 'block';\n",
       "            warnings.textContent = (\n",
       "                \"This browser does not support binary websocket messages. \" +\n",
       "                    \"Performance may be slow.\");\n",
       "        }\n",
       "    }\n",
       "\n",
       "    this.imageObj = new Image();\n",
       "\n",
       "    this.context = undefined;\n",
       "    this.message = undefined;\n",
       "    this.canvas = undefined;\n",
       "    this.rubberband_canvas = undefined;\n",
       "    this.rubberband_context = undefined;\n",
       "    this.format_dropdown = undefined;\n",
       "\n",
       "    this.image_mode = 'full';\n",
       "\n",
       "    this.root = $('<div/>');\n",
       "    this._root_extra_style(this.root)\n",
       "    this.root.attr('style', 'display: inline-block');\n",
       "\n",
       "    $(parent_element).append(this.root);\n",
       "\n",
       "    this._init_header(this);\n",
       "    this._init_canvas(this);\n",
       "    this._init_toolbar(this);\n",
       "\n",
       "    var fig = this;\n",
       "\n",
       "    this.waiting = false;\n",
       "\n",
       "    this.ws.onopen =  function () {\n",
       "            fig.send_message(\"supports_binary\", {value: fig.supports_binary});\n",
       "            fig.send_message(\"send_image_mode\", {});\n",
       "            fig.send_message(\"refresh\", {});\n",
       "        }\n",
       "\n",
       "    this.imageObj.onload = function() {\n",
       "            if (fig.image_mode == 'full') {\n",
       "                // Full images could contain transparency (where diff images\n",
       "                // almost always do), so we need to clear the canvas so that\n",
       "                // there is no ghosting.\n",
       "                fig.context.clearRect(0, 0, fig.canvas.width, fig.canvas.height);\n",
       "            }\n",
       "            fig.context.drawImage(fig.imageObj, 0, 0);\n",
       "        };\n",
       "\n",
       "    this.imageObj.onunload = function() {\n",
       "        this.ws.close();\n",
       "    }\n",
       "\n",
       "    this.ws.onmessage = this._make_on_message_function(this);\n",
       "\n",
       "    this.ondownload = ondownload;\n",
       "}\n",
       "\n",
       "mpl.figure.prototype._init_header = function() {\n",
       "    var titlebar = $(\n",
       "        '<div class=\"ui-dialog-titlebar ui-widget-header ui-corner-all ' +\n",
       "        'ui-helper-clearfix\"/>');\n",
       "    var titletext = $(\n",
       "        '<div class=\"ui-dialog-title\" style=\"width: 100%; ' +\n",
       "        'text-align: center; padding: 3px;\"/>');\n",
       "    titlebar.append(titletext)\n",
       "    this.root.append(titlebar);\n",
       "    this.header = titletext[0];\n",
       "}\n",
       "\n",
       "\n",
       "\n",
       "mpl.figure.prototype._canvas_extra_style = function(canvas_div) {\n",
       "\n",
       "}\n",
       "\n",
       "\n",
       "mpl.figure.prototype._root_extra_style = function(canvas_div) {\n",
       "\n",
       "}\n",
       "\n",
       "mpl.figure.prototype._init_canvas = function() {\n",
       "    var fig = this;\n",
       "\n",
       "    var canvas_div = $('<div/>');\n",
       "\n",
       "    canvas_div.attr('style', 'position: relative; clear: both; outline: 0');\n",
       "\n",
       "    function canvas_keyboard_event(event) {\n",
       "        return fig.key_event(event, event['data']);\n",
       "    }\n",
       "\n",
       "    canvas_div.keydown('key_press', canvas_keyboard_event);\n",
       "    canvas_div.keyup('key_release', canvas_keyboard_event);\n",
       "    this.canvas_div = canvas_div\n",
       "    this._canvas_extra_style(canvas_div)\n",
       "    this.root.append(canvas_div);\n",
       "\n",
       "    var canvas = $('<canvas/>');\n",
       "    canvas.addClass('mpl-canvas');\n",
       "    canvas.attr('style', \"left: 0; top: 0; z-index: 0; outline: 0\")\n",
       "\n",
       "    this.canvas = canvas[0];\n",
       "    this.context = canvas[0].getContext(\"2d\");\n",
       "\n",
       "    var rubberband = $('<canvas/>');\n",
       "    rubberband.attr('style', \"position: absolute; left: 0; top: 0; z-index: 1;\")\n",
       "\n",
       "    var pass_mouse_events = true;\n",
       "\n",
       "    canvas_div.resizable({\n",
       "        start: function(event, ui) {\n",
       "            pass_mouse_events = false;\n",
       "        },\n",
       "        resize: function(event, ui) {\n",
       "            fig.request_resize(ui.size.width, ui.size.height);\n",
       "        },\n",
       "        stop: function(event, ui) {\n",
       "            pass_mouse_events = true;\n",
       "            fig.request_resize(ui.size.width, ui.size.height);\n",
       "        },\n",
       "    });\n",
       "\n",
       "    function mouse_event_fn(event) {\n",
       "        if (pass_mouse_events)\n",
       "            return fig.mouse_event(event, event['data']);\n",
       "    }\n",
       "\n",
       "    rubberband.mousedown('button_press', mouse_event_fn);\n",
       "    rubberband.mouseup('button_release', mouse_event_fn);\n",
       "    // Throttle sequential mouse events to 1 every 20ms.\n",
       "    rubberband.mousemove('motion_notify', mouse_event_fn);\n",
       "\n",
       "    rubberband.mouseenter('figure_enter', mouse_event_fn);\n",
       "    rubberband.mouseleave('figure_leave', mouse_event_fn);\n",
       "\n",
       "    canvas_div.on(\"wheel\", function (event) {\n",
       "        event = event.originalEvent;\n",
       "        event['data'] = 'scroll'\n",
       "        if (event.deltaY < 0) {\n",
       "            event.step = 1;\n",
       "        } else {\n",
       "            event.step = -1;\n",
       "        }\n",
       "        mouse_event_fn(event);\n",
       "    });\n",
       "\n",
       "    canvas_div.append(canvas);\n",
       "    canvas_div.append(rubberband);\n",
       "\n",
       "    this.rubberband = rubberband;\n",
       "    this.rubberband_canvas = rubberband[0];\n",
       "    this.rubberband_context = rubberband[0].getContext(\"2d\");\n",
       "    this.rubberband_context.strokeStyle = \"#000000\";\n",
       "\n",
       "    this._resize_canvas = function(width, height) {\n",
       "        // Keep the size of the canvas, canvas container, and rubber band\n",
       "        // canvas in synch.\n",
       "        canvas_div.css('width', width)\n",
       "        canvas_div.css('height', height)\n",
       "\n",
       "        canvas.attr('width', width);\n",
       "        canvas.attr('height', height);\n",
       "\n",
       "        rubberband.attr('width', width);\n",
       "        rubberband.attr('height', height);\n",
       "    }\n",
       "\n",
       "    // Set the figure to an initial 600x600px, this will subsequently be updated\n",
       "    // upon first draw.\n",
       "    this._resize_canvas(600, 600);\n",
       "\n",
       "    // Disable right mouse context menu.\n",
       "    $(this.rubberband_canvas).bind(\"contextmenu\",function(e){\n",
       "        return false;\n",
       "    });\n",
       "\n",
       "    function set_focus () {\n",
       "        canvas.focus();\n",
       "        canvas_div.focus();\n",
       "    }\n",
       "\n",
       "    window.setTimeout(set_focus, 100);\n",
       "}\n",
       "\n",
       "mpl.figure.prototype._init_toolbar = function() {\n",
       "    var fig = this;\n",
       "\n",
       "    var nav_element = $('<div/>')\n",
       "    nav_element.attr('style', 'width: 100%');\n",
       "    this.root.append(nav_element);\n",
       "\n",
       "    // Define a callback function for later on.\n",
       "    function toolbar_event(event) {\n",
       "        return fig.toolbar_button_onclick(event['data']);\n",
       "    }\n",
       "    function toolbar_mouse_event(event) {\n",
       "        return fig.toolbar_button_onmouseover(event['data']);\n",
       "    }\n",
       "\n",
       "    for(var toolbar_ind in mpl.toolbar_items) {\n",
       "        var name = mpl.toolbar_items[toolbar_ind][0];\n",
       "        var tooltip = mpl.toolbar_items[toolbar_ind][1];\n",
       "        var image = mpl.toolbar_items[toolbar_ind][2];\n",
       "        var method_name = mpl.toolbar_items[toolbar_ind][3];\n",
       "\n",
       "        if (!name) {\n",
       "            // put a spacer in here.\n",
       "            continue;\n",
       "        }\n",
       "        var button = $('<button/>');\n",
       "        button.addClass('ui-button ui-widget ui-state-default ui-corner-all ' +\n",
       "                        'ui-button-icon-only');\n",
       "        button.attr('role', 'button');\n",
       "        button.attr('aria-disabled', 'false');\n",
       "        button.click(method_name, toolbar_event);\n",
       "        button.mouseover(tooltip, toolbar_mouse_event);\n",
       "\n",
       "        var icon_img = $('<span/>');\n",
       "        icon_img.addClass('ui-button-icon-primary ui-icon');\n",
       "        icon_img.addClass(image);\n",
       "        icon_img.addClass('ui-corner-all');\n",
       "\n",
       "        var tooltip_span = $('<span/>');\n",
       "        tooltip_span.addClass('ui-button-text');\n",
       "        tooltip_span.html(tooltip);\n",
       "\n",
       "        button.append(icon_img);\n",
       "        button.append(tooltip_span);\n",
       "\n",
       "        nav_element.append(button);\n",
       "    }\n",
       "\n",
       "    var fmt_picker_span = $('<span/>');\n",
       "\n",
       "    var fmt_picker = $('<select/>');\n",
       "    fmt_picker.addClass('mpl-toolbar-option ui-widget ui-widget-content');\n",
       "    fmt_picker_span.append(fmt_picker);\n",
       "    nav_element.append(fmt_picker_span);\n",
       "    this.format_dropdown = fmt_picker[0];\n",
       "\n",
       "    for (var ind in mpl.extensions) {\n",
       "        var fmt = mpl.extensions[ind];\n",
       "        var option = $(\n",
       "            '<option/>', {selected: fmt === mpl.default_extension}).html(fmt);\n",
       "        fmt_picker.append(option)\n",
       "    }\n",
       "\n",
       "    // Add hover states to the ui-buttons\n",
       "    $( \".ui-button\" ).hover(\n",
       "        function() { $(this).addClass(\"ui-state-hover\");},\n",
       "        function() { $(this).removeClass(\"ui-state-hover\");}\n",
       "    );\n",
       "\n",
       "    var status_bar = $('<span class=\"mpl-message\"/>');\n",
       "    nav_element.append(status_bar);\n",
       "    this.message = status_bar[0];\n",
       "}\n",
       "\n",
       "mpl.figure.prototype.request_resize = function(x_pixels, y_pixels) {\n",
       "    // Request matplotlib to resize the figure. Matplotlib will then trigger a resize in the client,\n",
       "    // which will in turn request a refresh of the image.\n",
       "    this.send_message('resize', {'width': x_pixels, 'height': y_pixels});\n",
       "}\n",
       "\n",
       "mpl.figure.prototype.send_message = function(type, properties) {\n",
       "    properties['type'] = type;\n",
       "    properties['figure_id'] = this.id;\n",
       "    this.ws.send(JSON.stringify(properties));\n",
       "}\n",
       "\n",
       "mpl.figure.prototype.send_draw_message = function() {\n",
       "    if (!this.waiting) {\n",
       "        this.waiting = true;\n",
       "        this.ws.send(JSON.stringify({type: \"draw\", figure_id: this.id}));\n",
       "    }\n",
       "}\n",
       "\n",
       "\n",
       "mpl.figure.prototype.handle_save = function(fig, msg) {\n",
       "    var format_dropdown = fig.format_dropdown;\n",
       "    var format = format_dropdown.options[format_dropdown.selectedIndex].value;\n",
       "    fig.ondownload(fig, format);\n",
       "}\n",
       "\n",
       "\n",
       "mpl.figure.prototype.handle_resize = function(fig, msg) {\n",
       "    var size = msg['size'];\n",
       "    if (size[0] != fig.canvas.width || size[1] != fig.canvas.height) {\n",
       "        fig._resize_canvas(size[0], size[1]);\n",
       "        fig.send_message(\"refresh\", {});\n",
       "    };\n",
       "}\n",
       "\n",
       "mpl.figure.prototype.handle_rubberband = function(fig, msg) {\n",
       "    var x0 = msg['x0'];\n",
       "    var y0 = fig.canvas.height - msg['y0'];\n",
       "    var x1 = msg['x1'];\n",
       "    var y1 = fig.canvas.height - msg['y1'];\n",
       "    x0 = Math.floor(x0) + 0.5;\n",
       "    y0 = Math.floor(y0) + 0.5;\n",
       "    x1 = Math.floor(x1) + 0.5;\n",
       "    y1 = Math.floor(y1) + 0.5;\n",
       "    var min_x = Math.min(x0, x1);\n",
       "    var min_y = Math.min(y0, y1);\n",
       "    var width = Math.abs(x1 - x0);\n",
       "    var height = Math.abs(y1 - y0);\n",
       "\n",
       "    fig.rubberband_context.clearRect(\n",
       "        0, 0, fig.canvas.width, fig.canvas.height);\n",
       "\n",
       "    fig.rubberband_context.strokeRect(min_x, min_y, width, height);\n",
       "}\n",
       "\n",
       "mpl.figure.prototype.handle_figure_label = function(fig, msg) {\n",
       "    // Updates the figure title.\n",
       "    fig.header.textContent = msg['label'];\n",
       "}\n",
       "\n",
       "mpl.figure.prototype.handle_cursor = function(fig, msg) {\n",
       "    var cursor = msg['cursor'];\n",
       "    switch(cursor)\n",
       "    {\n",
       "    case 0:\n",
       "        cursor = 'pointer';\n",
       "        break;\n",
       "    case 1:\n",
       "        cursor = 'default';\n",
       "        break;\n",
       "    case 2:\n",
       "        cursor = 'crosshair';\n",
       "        break;\n",
       "    case 3:\n",
       "        cursor = 'move';\n",
       "        break;\n",
       "    }\n",
       "    fig.rubberband_canvas.style.cursor = cursor;\n",
       "}\n",
       "\n",
       "mpl.figure.prototype.handle_message = function(fig, msg) {\n",
       "    fig.message.textContent = msg['message'];\n",
       "}\n",
       "\n",
       "mpl.figure.prototype.handle_draw = function(fig, msg) {\n",
       "    // Request the server to send over a new figure.\n",
       "    fig.send_draw_message();\n",
       "}\n",
       "\n",
       "mpl.figure.prototype.handle_image_mode = function(fig, msg) {\n",
       "    fig.image_mode = msg['mode'];\n",
       "}\n",
       "\n",
       "mpl.figure.prototype.updated_canvas_event = function() {\n",
       "    // Called whenever the canvas gets updated.\n",
       "    this.send_message(\"ack\", {});\n",
       "}\n",
       "\n",
       "// A function to construct a web socket function for onmessage handling.\n",
       "// Called in the figure constructor.\n",
       "mpl.figure.prototype._make_on_message_function = function(fig) {\n",
       "    return function socket_on_message(evt) {\n",
       "        if (evt.data instanceof Blob) {\n",
       "            /* FIXME: We get \"Resource interpreted as Image but\n",
       "             * transferred with MIME type text/plain:\" errors on\n",
       "             * Chrome.  But how to set the MIME type?  It doesn't seem\n",
       "             * to be part of the websocket stream */\n",
       "            evt.data.type = \"image/png\";\n",
       "\n",
       "            /* Free the memory for the previous frames */\n",
       "            if (fig.imageObj.src) {\n",
       "                (window.URL || window.webkitURL).revokeObjectURL(\n",
       "                    fig.imageObj.src);\n",
       "            }\n",
       "\n",
       "            fig.imageObj.src = (window.URL || window.webkitURL).createObjectURL(\n",
       "                evt.data);\n",
       "            fig.updated_canvas_event();\n",
       "            fig.waiting = false;\n",
       "            return;\n",
       "        }\n",
       "        else if (typeof evt.data === 'string' && evt.data.slice(0, 21) == \"data:image/png;base64\") {\n",
       "            fig.imageObj.src = evt.data;\n",
       "            fig.updated_canvas_event();\n",
       "            fig.waiting = false;\n",
       "            return;\n",
       "        }\n",
       "\n",
       "        var msg = JSON.parse(evt.data);\n",
       "        var msg_type = msg['type'];\n",
       "\n",
       "        // Call the  \"handle_{type}\" callback, which takes\n",
       "        // the figure and JSON message as its only arguments.\n",
       "        try {\n",
       "            var callback = fig[\"handle_\" + msg_type];\n",
       "        } catch (e) {\n",
       "            console.log(\"No handler for the '\" + msg_type + \"' message type: \", msg);\n",
       "            return;\n",
       "        }\n",
       "\n",
       "        if (callback) {\n",
       "            try {\n",
       "                // console.log(\"Handling '\" + msg_type + \"' message: \", msg);\n",
       "                callback(fig, msg);\n",
       "            } catch (e) {\n",
       "                console.log(\"Exception inside the 'handler_\" + msg_type + \"' callback:\", e, e.stack, msg);\n",
       "            }\n",
       "        }\n",
       "    };\n",
       "}\n",
       "\n",
       "// from http://stackoverflow.com/questions/1114465/getting-mouse-location-in-canvas\n",
       "mpl.findpos = function(e) {\n",
       "    //this section is from http://www.quirksmode.org/js/events_properties.html\n",
       "    var targ;\n",
       "    if (!e)\n",
       "        e = window.event;\n",
       "    if (e.target)\n",
       "        targ = e.target;\n",
       "    else if (e.srcElement)\n",
       "        targ = e.srcElement;\n",
       "    if (targ.nodeType == 3) // defeat Safari bug\n",
       "        targ = targ.parentNode;\n",
       "\n",
       "    // jQuery normalizes the pageX and pageY\n",
       "    // pageX,Y are the mouse positions relative to the document\n",
       "    // offset() returns the position of the element relative to the document\n",
       "    var x = e.pageX - $(targ).offset().left;\n",
       "    var y = e.pageY - $(targ).offset().top;\n",
       "\n",
       "    return {\"x\": x, \"y\": y};\n",
       "};\n",
       "\n",
       "/*\n",
       " * return a copy of an object with only non-object keys\n",
       " * we need this to avoid circular references\n",
       " * http://stackoverflow.com/a/24161582/3208463\n",
       " */\n",
       "function simpleKeys (original) {\n",
       "  return Object.keys(original).reduce(function (obj, key) {\n",
       "    if (typeof original[key] !== 'object')\n",
       "        obj[key] = original[key]\n",
       "    return obj;\n",
       "  }, {});\n",
       "}\n",
       "\n",
       "mpl.figure.prototype.mouse_event = function(event, name) {\n",
       "    var canvas_pos = mpl.findpos(event)\n",
       "\n",
       "    if (name === 'button_press')\n",
       "    {\n",
       "        this.canvas.focus();\n",
       "        this.canvas_div.focus();\n",
       "    }\n",
       "\n",
       "    var x = canvas_pos.x;\n",
       "    var y = canvas_pos.y;\n",
       "\n",
       "    this.send_message(name, {x: x, y: y, button: event.button,\n",
       "                             step: event.step,\n",
       "                             guiEvent: simpleKeys(event)});\n",
       "\n",
       "    /* This prevents the web browser from automatically changing to\n",
       "     * the text insertion cursor when the button is pressed.  We want\n",
       "     * to control all of the cursor setting manually through the\n",
       "     * 'cursor' event from matplotlib */\n",
       "    event.preventDefault();\n",
       "    return false;\n",
       "}\n",
       "\n",
       "mpl.figure.prototype._key_event_extra = function(event, name) {\n",
       "    // Handle any extra behaviour associated with a key event\n",
       "}\n",
       "\n",
       "mpl.figure.prototype.key_event = function(event, name) {\n",
       "\n",
       "    // Prevent repeat events\n",
       "    if (name == 'key_press')\n",
       "    {\n",
       "        if (event.which === this._key)\n",
       "            return;\n",
       "        else\n",
       "            this._key = event.which;\n",
       "    }\n",
       "    if (name == 'key_release')\n",
       "        this._key = null;\n",
       "\n",
       "    var value = '';\n",
       "    if (event.ctrlKey && event.which != 17)\n",
       "        value += \"ctrl+\";\n",
       "    if (event.altKey && event.which != 18)\n",
       "        value += \"alt+\";\n",
       "    if (event.shiftKey && event.which != 16)\n",
       "        value += \"shift+\";\n",
       "\n",
       "    value += 'k';\n",
       "    value += event.which.toString();\n",
       "\n",
       "    this._key_event_extra(event, name);\n",
       "\n",
       "    this.send_message(name, {key: value,\n",
       "                             guiEvent: simpleKeys(event)});\n",
       "    return false;\n",
       "}\n",
       "\n",
       "mpl.figure.prototype.toolbar_button_onclick = function(name) {\n",
       "    if (name == 'download') {\n",
       "        this.handle_save(this, null);\n",
       "    } else {\n",
       "        this.send_message(\"toolbar_button\", {name: name});\n",
       "    }\n",
       "};\n",
       "\n",
       "mpl.figure.prototype.toolbar_button_onmouseover = function(tooltip) {\n",
       "    this.message.textContent = tooltip;\n",
       "};\n",
       "mpl.toolbar_items = [[\"Home\", \"Reset original view\", \"fa fa-home icon-home\", \"home\"], [\"Back\", \"Back to  previous view\", \"fa fa-arrow-left icon-arrow-left\", \"back\"], [\"Forward\", \"Forward to next view\", \"fa fa-arrow-right icon-arrow-right\", \"forward\"], [\"\", \"\", \"\", \"\"], [\"Pan\", \"Pan axes with left mouse, zoom with right\", \"fa fa-arrows icon-move\", \"pan\"], [\"Zoom\", \"Zoom to rectangle\", \"fa fa-square-o icon-check-empty\", \"zoom\"], [\"\", \"\", \"\", \"\"], [\"Download\", \"Download plot\", \"fa fa-floppy-o icon-save\", \"download\"]];\n",
       "\n",
       "mpl.extensions = [\"eps\", \"jpeg\", \"pdf\", \"png\", \"ps\", \"raw\", \"svg\", \"tif\"];\n",
       "\n",
       "mpl.default_extension = \"png\";var comm_websocket_adapter = function(comm) {\n",
       "    // Create a \"websocket\"-like object which calls the given IPython comm\n",
       "    // object with the appropriate methods. Currently this is a non binary\n",
       "    // socket, so there is still some room for performance tuning.\n",
       "    var ws = {};\n",
       "\n",
       "    ws.close = function() {\n",
       "        comm.close()\n",
       "    };\n",
       "    ws.send = function(m) {\n",
       "        //console.log('sending', m);\n",
       "        comm.send(m);\n",
       "    };\n",
       "    // Register the callback with on_msg.\n",
       "    comm.on_msg(function(msg) {\n",
       "        //console.log('receiving', msg['content']['data'], msg);\n",
       "        // Pass the mpl event to the overriden (by mpl) onmessage function.\n",
       "        ws.onmessage(msg['content']['data'])\n",
       "    });\n",
       "    return ws;\n",
       "}\n",
       "\n",
       "mpl.mpl_figure_comm = function(comm, msg) {\n",
       "    // This is the function which gets called when the mpl process\n",
       "    // starts-up an IPython Comm through the \"matplotlib\" channel.\n",
       "\n",
       "    var id = msg.content.data.id;\n",
       "    // Get hold of the div created by the display call when the Comm\n",
       "    // socket was opened in Python.\n",
       "    var element = $(\"#\" + id);\n",
       "    var ws_proxy = comm_websocket_adapter(comm)\n",
       "\n",
       "    function ondownload(figure, format) {\n",
       "        window.open(figure.imageObj.src);\n",
       "    }\n",
       "\n",
       "    var fig = new mpl.figure(id, ws_proxy,\n",
       "                           ondownload,\n",
       "                           element.get(0));\n",
       "\n",
       "    // Call onopen now - mpl needs it, as it is assuming we've passed it a real\n",
       "    // web socket which is closed, not our websocket->open comm proxy.\n",
       "    ws_proxy.onopen();\n",
       "\n",
       "    fig.parent_element = element.get(0);\n",
       "    fig.cell_info = mpl.find_output_cell(\"<div id='\" + id + \"'></div>\");\n",
       "    if (!fig.cell_info) {\n",
       "        console.error(\"Failed to find cell for figure\", id, fig);\n",
       "        return;\n",
       "    }\n",
       "\n",
       "    var output_index = fig.cell_info[2]\n",
       "    var cell = fig.cell_info[0];\n",
       "\n",
       "};\n",
       "\n",
       "mpl.figure.prototype.handle_close = function(fig, msg) {\n",
       "    fig.root.unbind('remove')\n",
       "\n",
       "    // Update the output cell to use the data from the current canvas.\n",
       "    fig.push_to_output();\n",
       "    var dataURL = fig.canvas.toDataURL();\n",
       "    // Re-enable the keyboard manager in IPython - without this line, in FF,\n",
       "    // the notebook keyboard shortcuts fail.\n",
       "    IPython.keyboard_manager.enable()\n",
       "    $(fig.parent_element).html('<img src=\"' + dataURL + '\">');\n",
       "    fig.close_ws(fig, msg);\n",
       "}\n",
       "\n",
       "mpl.figure.prototype.close_ws = function(fig, msg){\n",
       "    fig.send_message('closing', msg);\n",
       "    // fig.ws.close()\n",
       "}\n",
       "\n",
       "mpl.figure.prototype.push_to_output = function(remove_interactive) {\n",
       "    // Turn the data on the canvas into data in the output cell.\n",
       "    var dataURL = this.canvas.toDataURL();\n",
       "    this.cell_info[1]['text/html'] = '<img src=\"' + dataURL + '\">';\n",
       "}\n",
       "\n",
       "mpl.figure.prototype.updated_canvas_event = function() {\n",
       "    // Tell IPython that the notebook contents must change.\n",
       "    IPython.notebook.set_dirty(true);\n",
       "    this.send_message(\"ack\", {});\n",
       "    var fig = this;\n",
       "    // Wait a second, then push the new image to the DOM so\n",
       "    // that it is saved nicely (might be nice to debounce this).\n",
       "    setTimeout(function () { fig.push_to_output() }, 1000);\n",
       "}\n",
       "\n",
       "mpl.figure.prototype._init_toolbar = function() {\n",
       "    var fig = this;\n",
       "\n",
       "    var nav_element = $('<div/>')\n",
       "    nav_element.attr('style', 'width: 100%');\n",
       "    this.root.append(nav_element);\n",
       "\n",
       "    // Define a callback function for later on.\n",
       "    function toolbar_event(event) {\n",
       "        return fig.toolbar_button_onclick(event['data']);\n",
       "    }\n",
       "    function toolbar_mouse_event(event) {\n",
       "        return fig.toolbar_button_onmouseover(event['data']);\n",
       "    }\n",
       "\n",
       "    for(var toolbar_ind in mpl.toolbar_items){\n",
       "        var name = mpl.toolbar_items[toolbar_ind][0];\n",
       "        var tooltip = mpl.toolbar_items[toolbar_ind][1];\n",
       "        var image = mpl.toolbar_items[toolbar_ind][2];\n",
       "        var method_name = mpl.toolbar_items[toolbar_ind][3];\n",
       "\n",
       "        if (!name) { continue; };\n",
       "\n",
       "        var button = $('<button class=\"btn btn-default\" href=\"#\" title=\"' + name + '\"><i class=\"fa ' + image + ' fa-lg\"></i></button>');\n",
       "        button.click(method_name, toolbar_event);\n",
       "        button.mouseover(tooltip, toolbar_mouse_event);\n",
       "        nav_element.append(button);\n",
       "    }\n",
       "\n",
       "    // Add the status bar.\n",
       "    var status_bar = $('<span class=\"mpl-message\" style=\"text-align:right; float: right;\"/>');\n",
       "    nav_element.append(status_bar);\n",
       "    this.message = status_bar[0];\n",
       "\n",
       "    // Add the close button to the window.\n",
       "    var buttongrp = $('<div class=\"btn-group inline pull-right\"></div>');\n",
       "    var button = $('<button class=\"btn btn-mini btn-primary\" href=\"#\" title=\"Stop Interaction\"><i class=\"fa fa-power-off icon-remove icon-large\"></i></button>');\n",
       "    button.click(function (evt) { fig.handle_close(fig, {}); } );\n",
       "    button.mouseover('Stop Interaction', toolbar_mouse_event);\n",
       "    buttongrp.append(button);\n",
       "    var titlebar = this.root.find($('.ui-dialog-titlebar'));\n",
       "    titlebar.prepend(buttongrp);\n",
       "}\n",
       "\n",
       "mpl.figure.prototype._root_extra_style = function(el){\n",
       "    var fig = this\n",
       "    el.on(\"remove\", function(){\n",
       "\tfig.close_ws(fig, {});\n",
       "    });\n",
       "}\n",
       "\n",
       "mpl.figure.prototype._canvas_extra_style = function(el){\n",
       "    // this is important to make the div 'focusable\n",
       "    el.attr('tabindex', 0)\n",
       "    // reach out to IPython and tell the keyboard manager to turn it's self\n",
       "    // off when our div gets focus\n",
       "\n",
       "    // location in version 3\n",
       "    if (IPython.notebook.keyboard_manager) {\n",
       "        IPython.notebook.keyboard_manager.register_events(el);\n",
       "    }\n",
       "    else {\n",
       "        // location in version 2\n",
       "        IPython.keyboard_manager.register_events(el);\n",
       "    }\n",
       "\n",
       "}\n",
       "\n",
       "mpl.figure.prototype._key_event_extra = function(event, name) {\n",
       "    var manager = IPython.notebook.keyboard_manager;\n",
       "    if (!manager)\n",
       "        manager = IPython.keyboard_manager;\n",
       "\n",
       "    // Check for shift+enter\n",
       "    if (event.shiftKey && event.which == 13) {\n",
       "        this.canvas_div.blur();\n",
       "        event.shiftKey = false;\n",
       "        // Send a \"J\" for go to next cell\n",
       "        event.which = 74;\n",
       "        event.keyCode = 74;\n",
       "        manager.command_mode();\n",
       "        manager.handle_keydown(event);\n",
       "    }\n",
       "}\n",
       "\n",
       "mpl.figure.prototype.handle_save = function(fig, msg) {\n",
       "    fig.ondownload(fig, null);\n",
       "}\n",
       "\n",
       "\n",
       "mpl.find_output_cell = function(html_output) {\n",
       "    // Return the cell and output element which can be found *uniquely* in the notebook.\n",
       "    // Note - this is a bit hacky, but it is done because the \"notebook_saving.Notebook\"\n",
       "    // IPython event is triggered only after the cells have been serialised, which for\n",
       "    // our purposes (turning an active figure into a static one), is too late.\n",
       "    var cells = IPython.notebook.get_cells();\n",
       "    var ncells = cells.length;\n",
       "    for (var i=0; i<ncells; i++) {\n",
       "        var cell = cells[i];\n",
       "        if (cell.cell_type === 'code'){\n",
       "            for (var j=0; j<cell.output_area.outputs.length; j++) {\n",
       "                var data = cell.output_area.outputs[j];\n",
       "                if (data.data) {\n",
       "                    // IPython >= 3 moved mimebundle to data attribute of output\n",
       "                    data = data.data;\n",
       "                }\n",
       "                if (data['text/html'] == html_output) {\n",
       "                    return [cell, data, j];\n",
       "                }\n",
       "            }\n",
       "        }\n",
       "    }\n",
       "}\n",
       "\n",
       "// Register the function which deals with the matplotlib target/channel.\n",
       "// The kernel may be null if the page has been refreshed.\n",
       "if (IPython.notebook.kernel != null) {\n",
       "    IPython.notebook.kernel.comm_manager.register_target('matplotlib', mpl.mpl_figure_comm);\n",
       "}\n"
      ],
      "text/plain": [
       "<IPython.core.display.Javascript object>"
      ]
     },
     "metadata": {},
     "output_type": "display_data"
    },
    {
     "data": {
      "text/html": [
       "<img src=\"data:image/png;base64,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\">"
      ],
      "text/plain": [
       "<IPython.core.display.HTML object>"
      ]
     },
     "metadata": {},
     "output_type": "display_data"
    }
   ],
   "source": [
    "%matplotlib notebook\n",
    "\n",
    "fig = plt.figure()\n",
    "\n",
    "for idx, dataset_filename in enumerate(train_datasets):\n",
    "    sp = fig.add_subplot(1, len(train_datasets), idx + 1)\n",
    "    sp.set_title(dataset_filename)\n",
    "    with open(dataset_filename, 'rb') as f:\n",
    "        dataset = pickle.load(f)\n",
    "        plt.imshow(dataset[0])\n"
   ]
  },
  {
   "cell_type": "markdown",
   "metadata": {
    "colab_type": "text",
    "id": "cYznx5jUwzoO"
   },
   "source": [
    "---\n",
    "Problem 3\n",
    "---------\n",
    "Another check: we expect the data to be balanced across classes. Verify that.\n",
    "\n",
    "---"
   ]
  },
  {
   "cell_type": "code",
   "execution_count": 13,
   "metadata": {
    "collapsed": false
   },
   "outputs": [
    {
     "name": "stdout",
     "output_type": "stream",
     "text": [
      "notMNIST_large/A.pickle\n",
      "52909\n",
      "notMNIST_large/B.pickle\n",
      "52911\n",
      "notMNIST_large/C.pickle\n",
      "52912\n",
      "notMNIST_large/D.pickle\n",
      "52911\n",
      "notMNIST_large/E.pickle\n",
      "52912\n",
      "notMNIST_large/F.pickle\n",
      "52912\n",
      "notMNIST_large/G.pickle\n",
      "52912\n",
      "notMNIST_large/H.pickle\n",
      "52912\n",
      "notMNIST_large/I.pickle\n",
      "52912\n",
      "notMNIST_large/J.pickle\n",
      "52911\n"
     ]
    }
   ],
   "source": [
    "for dataset_filename in train_datasets:\n",
    "    print(dataset_filename)\n",
    "    with open(dataset_filename, 'rb') as f:\n",
    "        dataset = pickle.load(f)\n",
    "        print(len(dataset))"
   ]
  },
  {
   "cell_type": "markdown",
   "metadata": {
    "colab_type": "text",
    "id": "LA7M7K22ynCt"
   },
   "source": [
    "Merge and prune the training data as needed. Depending on your computer setup, you might not be able to fit it all in memory, and you can tune `train_size` as needed. The labels will be stored into a separate array of integers 0 through 9.\n",
    "\n",
    "Also create a validation dataset for hyperparameter tuning."
   ]
  },
  {
   "cell_type": "code",
   "execution_count": 0,
   "metadata": {
    "cellView": "both",
    "colab": {
     "autoexec": {
      "startup": false,
      "wait_interval": 0
     },
     "output_extras": [
      {
       "item_id": 1
      }
     ]
    },
    "colab_type": "code",
    "collapsed": false,
    "executionInfo": {
     "elapsed": 411281,
     "status": "ok",
     "timestamp": 1444485897869,
     "user": {
      "color": "#1FA15D",
      "displayName": "Vincent Vanhoucke",
      "isAnonymous": false,
      "isMe": true,
      "permissionId": "05076109866853157986",
      "photoUrl": "//lh6.googleusercontent.com/-cCJa7dTDcgQ/AAAAAAAAAAI/AAAAAAAACgw/r2EZ_8oYer4/s50-c-k-no/photo.jpg",
      "sessionId": "2a0a5e044bb03b66",
      "userId": "102167687554210253930"
     },
     "user_tz": 420
    },
    "id": "s3mWgZLpyuzq",
    "outputId": "8af66da6-902d-4719-bedc-7c9fb7ae7948"
   },
   "outputs": [
    {
     "name": "stdout",
     "output_type": "stream",
     "text": [
      "Training (200000, 28, 28) (200000,)\n",
      "Validation (10000, 28, 28) (10000,)\n",
      "Testing (10000, 28, 28) (10000,)\n"
     ]
    }
   ],
   "source": [
    "def make_arrays(nb_rows, img_size):\n",
    "  if nb_rows:\n",
    "    dataset = np.ndarray((nb_rows, img_size, img_size), dtype=np.float32)\n",
    "    labels = np.ndarray(nb_rows, dtype=np.int32)\n",
    "  else:\n",
    "    dataset, labels = None, None\n",
    "  return dataset, labels\n",
    "\n",
    "def merge_datasets(pickle_files, train_size, valid_size=0):\n",
    "  num_classes = len(pickle_files)\n",
    "  valid_dataset, valid_labels = make_arrays(valid_size, image_size)\n",
    "  train_dataset, train_labels = make_arrays(train_size, image_size)\n",
    "  vsize_per_class = valid_size // num_classes\n",
    "  tsize_per_class = train_size // num_classes\n",
    "    \n",
    "  start_v, start_t = 0, 0\n",
    "  end_v, end_t = vsize_per_class, tsize_per_class\n",
    "  end_l = vsize_per_class+tsize_per_class\n",
    "  for label, pickle_file in enumerate(pickle_files):       \n",
    "    try:\n",
    "      with open(pickle_file, 'rb') as f:\n",
    "        letter_set = pickle.load(f)\n",
    "        # let's shuffle the letters to have random validation and training set\n",
    "        np.random.shuffle(letter_set)\n",
    "        if valid_dataset is not None:\n",
    "          valid_letter = letter_set[:vsize_per_class, :, :]\n",
    "          valid_dataset[start_v:end_v, :, :] = valid_letter\n",
    "          valid_labels[start_v:end_v] = label\n",
    "          start_v += vsize_per_class\n",
    "          end_v += vsize_per_class\n",
    "                    \n",
    "        train_letter = letter_set[vsize_per_class:end_l, :, :]\n",
    "        train_dataset[start_t:end_t, :, :] = train_letter\n",
    "        train_labels[start_t:end_t] = label\n",
    "        start_t += tsize_per_class\n",
    "        end_t += tsize_per_class\n",
    "    except Exception as e:\n",
    "      print('Unable to process data from', pickle_file, ':', e)\n",
    "      raise\n",
    "    \n",
    "  return valid_dataset, valid_labels, train_dataset, train_labels\n",
    "            \n",
    "            \n",
    "train_size = 200000\n",
    "valid_size = 10000\n",
    "test_size = 10000\n",
    "\n",
    "valid_dataset, valid_labels, train_dataset, train_labels = merge_datasets(\n",
    "  train_datasets, train_size, valid_size)\n",
    "_, _, test_dataset, test_labels = merge_datasets(test_datasets, test_size)\n",
    "\n",
    "print('Training:', train_dataset.shape, train_labels.shape)\n",
    "print('Validation:', valid_dataset.shape, valid_labels.shape)\n",
    "print('Testing:', test_dataset.shape, test_labels.shape)"
   ]
  },
  {
   "cell_type": "markdown",
   "metadata": {
    "colab_type": "text",
    "id": "GPTCnjIcyuKN"
   },
   "source": [
    "Next, we'll randomize the data. It's important to have the labels well shuffled for the training and test distributions to match."
   ]
  },
  {
   "cell_type": "code",
   "execution_count": 0,
   "metadata": {
    "cellView": "both",
    "colab": {
     "autoexec": {
      "startup": false,
      "wait_interval": 0
     }
    },
    "colab_type": "code",
    "collapsed": true,
    "id": "6WZ2l2tN2zOL"
   },
   "outputs": [],
   "source": [
    "def randomize(dataset, labels):\n",
    "  permutation = np.random.permutation(labels.shape[0])\n",
    "  shuffled_dataset = dataset[permutation,:,:]\n",
    "  shuffled_labels = labels[permutation]\n",
    "  return shuffled_dataset, shuffled_labels\n",
    "train_dataset, train_labels = randomize(train_dataset, train_labels)\n",
    "test_dataset, test_labels = randomize(test_dataset, test_labels)\n",
    "valid_dataset, valid_labels = randomize(valid_dataset, valid_labels)"
   ]
  },
  {
   "cell_type": "markdown",
   "metadata": {
    "colab_type": "text",
    "id": "puDUTe6t6USl"
   },
   "source": [
    "---\n",
    "Problem 4\n",
    "---------\n",
    "Convince yourself that the data is still good after shuffling!\n",
    "\n",
    "---"
   ]
  },
  {
   "cell_type": "markdown",
   "metadata": {
    "colab_type": "text",
    "id": "tIQJaJuwg5Hw"
   },
   "source": [
    "Finally, let's save the data for later reuse:"
   ]
  },
  {
   "cell_type": "code",
   "execution_count": 0,
   "metadata": {
    "cellView": "both",
    "colab": {
     "autoexec": {
      "startup": false,
      "wait_interval": 0
     }
    },
    "colab_type": "code",
    "collapsed": true,
    "id": "QiR_rETzem6C"
   },
   "outputs": [],
   "source": [
    "pickle_file = 'notMNIST.pickle'\n",
    "\n",
    "try:\n",
    "  f = open(pickle_file, 'wb')\n",
    "  save = {\n",
    "    'train_dataset': train_dataset,\n",
    "    'train_labels': train_labels,\n",
    "    'valid_dataset': valid_dataset,\n",
    "    'valid_labels': valid_labels,\n",
    "    'test_dataset': test_dataset,\n",
    "    'test_labels': test_labels,\n",
    "    }\n",
    "  pickle.dump(save, f, pickle.HIGHEST_PROTOCOL)\n",
    "  f.close()\n",
    "except Exception as e:\n",
    "  print('Unable to save data to', pickle_file, ':', e)\n",
    "  raise"
   ]
  },
  {
   "cell_type": "code",
   "execution_count": 0,
   "metadata": {
    "cellView": "both",
    "colab": {
     "autoexec": {
      "startup": false,
      "wait_interval": 0
     },
     "output_extras": [
      {
       "item_id": 1
      }
     ]
    },
    "colab_type": "code",
    "collapsed": false,
    "executionInfo": {
     "elapsed": 413065,
     "status": "ok",
     "timestamp": 1444485899688,
     "user": {
      "color": "#1FA15D",
      "displayName": "Vincent Vanhoucke",
      "isAnonymous": false,
      "isMe": true,
      "permissionId": "05076109866853157986",
      "photoUrl": "//lh6.googleusercontent.com/-cCJa7dTDcgQ/AAAAAAAAAAI/AAAAAAAACgw/r2EZ_8oYer4/s50-c-k-no/photo.jpg",
      "sessionId": "2a0a5e044bb03b66",
      "userId": "102167687554210253930"
     },
     "user_tz": 420
    },
    "id": "hQbLjrW_iT39",
    "outputId": "b440efc6-5ee1-4cbc-d02d-93db44ebd956"
   },
   "outputs": [
    {
     "name": "stdout",
     "output_type": "stream",
     "text": [
      "Compressed pickle size: 718193801\n"
     ]
    }
   ],
   "source": [
    "statinfo = os.stat(pickle_file)\n",
    "print('Compressed pickle size:', statinfo.st_size)"
   ]
  },
  {
   "cell_type": "markdown",
   "metadata": {
    "colab_type": "text",
    "id": "gE_cRAQB33lk"
   },
   "source": [
    "---\n",
    "Problem 5\n",
    "---------\n",
    "\n",
    "By construction, this dataset might contain a lot of overlapping samples, including training data that's also contained in the validation and test set! Overlap between training and test can skew the results if you expect to use your model in an environment where there is never an overlap, but are actually ok if you expect to see training samples recur when you use it.\n",
    "Measure how much overlap there is between training, validation and test samples.\n",
    "\n",
    "Optional questions:\n",
    "- What about near duplicates between datasets? (images that are almost identical)\n",
    "- Create a sanitized validation and test set, and compare your accuracy on those in subsequent assignments.\n",
    "---"
   ]
  },
  {
   "cell_type": "markdown",
   "metadata": {
    "colab_type": "text",
    "id": "L8oww1s4JMQx"
   },
   "source": [
    "---\n",
    "Problem 6\n",
    "---------\n",
    "\n",
    "Let's get an idea of what an off-the-shelf classifier can give you on this data. It's always good to check that there is something to learn, and that it's a problem that is not so trivial that a canned solution solves it.\n",
    "\n",
    "Train a simple model on this data using 50, 100, 1000 and 5000 training samples. Hint: you can use the LogisticRegression model from sklearn.linear_model.\n",
    "\n",
    "Optional question: train an off-the-shelf model on all the data!\n",
    "\n",
    "---"
   ]
  }
 ],
 "metadata": {
  "colab": {
   "default_view": {},
   "name": "1_notmnist.ipynb",
   "provenance": [],
   "version": "0.3.2",
   "views": {}
  },
  "kernelspec": {
   "display_name": "Python 2",
   "language": "python",
   "name": "python2"
  },
  "language_info": {
   "codemirror_mode": {
    "name": "ipython",
    "version": 2
   },
   "file_extension": ".py",
   "mimetype": "text/x-python",
   "name": "python",
   "nbconvert_exporter": "python",
   "pygments_lexer": "ipython2",
   "version": "2.7.6"
  }
 },
 "nbformat": 4,
 "nbformat_minor": 0
}
